{
  "nbformat": 4,
  "nbformat_minor": 0,
  "metadata": {
    "colab": {
      "provenance": []
    },
    "kernelspec": {
      "name": "python3",
      "display_name": "Python 3"
    },
    "language_info": {
      "name": "python"
    }
  },
  "cells": [
    {
      "cell_type": "code",
      "execution_count": 1,
      "metadata": {
        "id": "6zhGU0f8hOb-"
      },
      "outputs": [],
      "source": [
        "import pandas as pd\n",
        "import sqlite3\n",
        "\n",
        "# Load datasets\n",
        "menu_items_df = pd.read_csv('/content/menu_items.csv')\n",
        "order_details_df = pd.read_csv('/content/order_details.csv')\n",
        "\n",
        "# Create a SQLite database\n",
        "conn = sqlite3.connect('restaurant_orders.db')\n",
        "cursor = conn.cursor()\n",
        "\n",
        "# Create tables\n",
        "cursor.execute('''\n",
        "CREATE TABLE IF NOT EXISTS menu_items (\n",
        "    menu_item_id INTEGER PRIMARY KEY,\n",
        "    item_name TEXT,\n",
        "    category TEXT,\n",
        "    price REAL\n",
        ")\n",
        "''')\n",
        "\n",
        "cursor.execute('''\n",
        "CREATE TABLE IF NOT EXISTS order_details (\n",
        "    order_details_id INTEGER PRIMARY KEY,\n",
        "    order_id INTEGER,\n",
        "    order_date TEXT,\n",
        "    order_time TEXT,\n",
        "    item_id INTEGER,\n",
        "    FOREIGN KEY(item_id) REFERENCES menu_items(menu_item_id)\n",
        ")\n",
        "''')\n",
        "\n",
        "# Insert data into tables\n",
        "menu_items_df.to_sql('menu_items', conn, if_exists='append', index=False)\n",
        "order_details_df.to_sql('order_details', conn, if_exists='append', index=False)\n",
        "\n",
        "conn.commit()\n",
        "\n"
      ]
    },
    {
      "cell_type": "code",
      "source": [
        "# Retrieve all columns from the menu_items table\n",
        "query1 = \"SELECT * FROM menu_items LIMIT 5\"\n",
        "print(pd.read_sql_query(query1, conn))\n",
        "\n"
      ],
      "metadata": {
        "colab": {
          "base_uri": "https://localhost:8080/"
        },
        "id": "IV847S0vhhBK",
        "outputId": "e399633d-339a-477a-f980-6cecfbdfa0ac"
      },
      "execution_count": 2,
      "outputs": [
        {
          "output_type": "stream",
          "name": "stdout",
          "text": [
            "   menu_item_id      item_name  category  price\n",
            "0           101      Hamburger  American  12.95\n",
            "1           102   Cheeseburger  American  13.95\n",
            "2           103        Hot Dog  American   9.00\n",
            "3           104  Veggie Burger  American  10.50\n",
            "4           105   Mac & Cheese  American   7.00\n"
          ]
        }
      ]
    },
    {
      "cell_type": "code",
      "source": [
        "# Display the first 5 rows from the order_details table\n",
        "query2 = \"SELECT * FROM order_details LIMIT 5\"\n",
        "print(pd.read_sql_query(query2, conn))"
      ],
      "metadata": {
        "colab": {
          "base_uri": "https://localhost:8080/"
        },
        "id": "uQ0cuhSohr1t",
        "outputId": "79e09890-94c4-4cd6-ec53-e5aae83f8dc8"
      },
      "execution_count": 3,
      "outputs": [
        {
          "output_type": "stream",
          "name": "stdout",
          "text": [
            "   order_details_id  order_id order_date   order_time  item_id\n",
            "0                 1         1   1/1/2023  11:38:36 AM      109\n",
            "1                 2         2   1/1/2023  11:57:40 AM      108\n",
            "2                 3         2   1/1/2023  11:57:40 AM      124\n",
            "3                 4         2   1/1/2023  11:57:40 AM      117\n",
            "4                 5         2   1/1/2023  11:57:40 AM      129\n"
          ]
        }
      ]
    },
    {
      "cell_type": "code",
      "source": [
        "# Select the item_name and price columns for items in the 'Main Course' category, sorted by price in descending order\n",
        "query3 = \"\"\"\n",
        "SELECT item_name, price\n",
        "FROM menu_items\n",
        "WHERE category = 'American'\n",
        "ORDER BY price DESC\n",
        "\"\"\"\n",
        "print(pd.read_sql_query(query3, conn))\n"
      ],
      "metadata": {
        "colab": {
          "base_uri": "https://localhost:8080/"
        },
        "id": "T6_s1YJJh67w",
        "outputId": "2406fd9c-e2b2-4488-b4db-f103b888386a"
      },
      "execution_count": 6,
      "outputs": [
        {
          "output_type": "stream",
          "name": "stdout",
          "text": [
            "       item_name  price\n",
            "0   Cheeseburger  13.95\n",
            "1      Hamburger  12.95\n",
            "2  Veggie Burger  10.50\n",
            "3        Hot Dog   9.00\n",
            "4   Mac & Cheese   7.00\n",
            "5   French Fries   7.00\n"
          ]
        }
      ]
    },
    {
      "cell_type": "code",
      "source": [
        "# Calculate the average price of menu items\n",
        "query4 = \"SELECT AVG(price) AS avg_price FROM menu_items\"\n",
        "print(pd.read_sql_query(query4, conn))\n",
        "\n",
        "\n"
      ],
      "metadata": {
        "colab": {
          "base_uri": "https://localhost:8080/"
        },
        "id": "GX4dT_mMh_Q3",
        "outputId": "e85a0114-1187-436d-968e-5df1f057df2b"
      },
      "execution_count": 7,
      "outputs": [
        {
          "output_type": "stream",
          "name": "stdout",
          "text": [
            "   avg_price\n",
            "0  13.285937\n"
          ]
        }
      ]
    },
    {
      "cell_type": "code",
      "source": [
        "# Find the total number of orders placed\n",
        "query5 = \"SELECT COUNT(DISTINCT order_id) AS total_orders FROM order_details\"\n",
        "print(pd.read_sql_query(query5, conn))"
      ],
      "metadata": {
        "colab": {
          "base_uri": "https://localhost:8080/"
        },
        "id": "gguC0eChirag",
        "outputId": "223ddc7c-af76-46fc-8a02-2e2493da8990"
      },
      "execution_count": 8,
      "outputs": [
        {
          "output_type": "stream",
          "name": "stdout",
          "text": [
            "   total_orders\n",
            "0          5370\n"
          ]
        }
      ]
    },
    {
      "cell_type": "code",
      "source": [
        "# Retrieve the item_name, order_date, and order_time for all items in the order_details table\n",
        "query6 = \"\"\"\n",
        "SELECT oi.item_name, od.order_date, od.order_time\n",
        "FROM order_details od\n",
        "JOIN menu_items oi ON od.item_id = oi.menu_item_id\n",
        "\"\"\"\n",
        "print(pd.read_sql_query(query6, conn))\n"
      ],
      "metadata": {
        "colab": {
          "base_uri": "https://localhost:8080/"
        },
        "id": "oM-HNz8miu5o",
        "outputId": "a75481ce-9db2-42a4-bcdd-54144aef6d77"
      },
      "execution_count": 9,
      "outputs": [
        {
          "output_type": "stream",
          "name": "stdout",
          "text": [
            "              item_name order_date   order_time\n",
            "0      Korean Beef Bowl   1/1/2023  11:38:36 AM\n",
            "1         Tofu Pad Thai   1/1/2023  11:57:40 AM\n",
            "2             Spaghetti   1/1/2023  11:57:40 AM\n",
            "3       Chicken Burrito   1/1/2023  11:57:40 AM\n",
            "4      Mushroom Ravioli   1/1/2023  11:57:40 AM\n",
            "...                 ...        ...          ...\n",
            "12092  Korean Beef Bowl  3/31/2023  10:05:04 PM\n",
            "12093  Mushroom Ravioli  3/31/2023  10:05:04 PM\n",
            "12094       Steak Torta  3/31/2023  10:05:04 PM\n",
            "12095     Chips & Salsa  3/31/2023  10:05:04 PM\n",
            "12096     Chips & Salsa  3/31/2023  10:15:48 PM\n",
            "\n",
            "[12097 rows x 3 columns]\n"
          ]
        }
      ]
    },
    {
      "cell_type": "code",
      "source": [
        "query8 = \"\"\"\n",
        "SELECT substr(order_date, 1, 2) AS month, COUNT(*) AS orders_count\n",
        "FROM order_details\n",
        "GROUP BY month\n",
        "\"\"\"\n",
        "print(pd.read_sql_query(query8, conn))\n"
      ],
      "metadata": {
        "colab": {
          "base_uri": "https://localhost:8080/"
        },
        "id": "z9XkniJVS_WK",
        "outputId": "2ff7b17f-d5c4-4dd7-ae34-4764c56bd04c"
      },
      "execution_count": 10,
      "outputs": [
        {
          "output_type": "stream",
          "name": "stdout",
          "text": [
            "  month  orders_count\n",
            "0    1/          4156\n",
            "1    2/          3892\n",
            "2    3/          4186\n"
          ]
        }
      ]
    },
    {
      "cell_type": "code",
      "source": [
        "# Show the categories with the average price greater than $15 and include the count of items in each category\n",
        "query9 = \"\"\"\n",
        "SELECT category, AVG(price) AS avg_price, COUNT(*) AS item_count\n",
        "FROM menu_items\n",
        "GROUP BY category\n",
        "HAVING avg_price > 15\n",
        "\"\"\"\n",
        "print(pd.read_sql_query(query9, conn))\n"
      ],
      "metadata": {
        "colab": {
          "base_uri": "https://localhost:8080/"
        },
        "id": "cw9G1GXijDW8",
        "outputId": "b9498cff-0b2c-47e1-f803-3cb0b090ed92"
      },
      "execution_count": 11,
      "outputs": [
        {
          "output_type": "stream",
          "name": "stdout",
          "text": [
            "  category  avg_price  item_count\n",
            "0  Italian      16.75           9\n"
          ]
        }
      ]
    },
    {
      "cell_type": "code",
      "source": [
        "# Display the item_name and price, and indicate if the item is priced above $20 with a new column named 'Expensive'\n",
        "query10 = \"\"\"\n",
        "SELECT item_name, price,\n",
        "       CASE\n",
        "           WHEN price > 20 THEN 'Yes'\n",
        "           ELSE 'No'\n",
        "       END AS Expensive\n",
        "FROM menu_items\n",
        "\"\"\"\n",
        "print(pd.read_sql_query(query10, conn))\n"
      ],
      "metadata": {
        "colab": {
          "base_uri": "https://localhost:8080/"
        },
        "id": "yQEON0unnLS9",
        "outputId": "d57b41af-6f30-46c2-d01b-8199033d99bb"
      },
      "execution_count": 12,
      "outputs": [
        {
          "output_type": "stream",
          "name": "stdout",
          "text": [
            "                item_name  price Expensive\n",
            "0               Hamburger  12.95        No\n",
            "1            Cheeseburger  13.95        No\n",
            "2                 Hot Dog   9.00        No\n",
            "3           Veggie Burger  10.50        No\n",
            "4            Mac & Cheese   7.00        No\n",
            "5            French Fries   7.00        No\n",
            "6          Orange Chicken  16.50        No\n",
            "7           Tofu Pad Thai  14.50        No\n",
            "8        Korean Beef Bowl  17.95        No\n",
            "9              Pork Ramen  17.95        No\n",
            "10        California Roll  11.95        No\n",
            "11            Salmon Roll  14.95        No\n",
            "12                Edamame   5.00        No\n",
            "13            Potstickers   9.00        No\n",
            "14          Chicken Tacos  11.95        No\n",
            "15            Steak Tacos  13.95        No\n",
            "16        Chicken Burrito  12.95        No\n",
            "17          Steak Burrito  14.95        No\n",
            "18          Chicken Torta  11.95        No\n",
            "19            Steak Torta  13.95        No\n",
            "20     Cheese Quesadillas  10.50        No\n",
            "21          Chips & Salsa   7.00        No\n",
            "22      Chips & Guacamole   9.00        No\n",
            "23              Spaghetti  14.50        No\n",
            "24  Spaghetti & Meatballs  17.95        No\n",
            "25     Fettuccine Alfredo  14.50        No\n",
            "26           Meat Lasagna  17.95        No\n",
            "27         Cheese Lasagna  15.50        No\n",
            "28       Mushroom Ravioli  15.50        No\n",
            "29          Shrimp Scampi  19.95        No\n",
            "30       Chicken Parmesan  17.95        No\n",
            "31      Eggplant Parmesan  16.95        No\n"
          ]
        }
      ]
    },
    {
      "cell_type": "code",
      "source": [
        "# Update the price of the menu item with item_id = 101 to $25\n",
        "cursor.execute(\"UPDATE menu_items SET price = 25 WHERE menu_item_id = 101\")\n",
        "conn.commit()\n"
      ],
      "metadata": {
        "id": "63KpkwwWnOt3"
      },
      "execution_count": 13,
      "outputs": []
    },
    {
      "cell_type": "code",
      "source": [
        "# Insert a new record into the menu_items table for a dessert item\n",
        "cursor.execute(\"\"\"\n",
        "INSERT INTO menu_items (menu_item_id, item_name, category, price)\n",
        "VALUES (999, 'Chocolate Cake', 'Dessert', 6.50)\n",
        "\"\"\")\n",
        "conn.commit()\n"
      ],
      "metadata": {
        "id": "ZqmyqItlnWOq"
      },
      "execution_count": 14,
      "outputs": []
    },
    {
      "cell_type": "code",
      "source": [
        "# Delete all records from the order_details table where the order_id is less than 100\n",
        "cursor.execute(\"DELETE FROM order_details WHERE order_id < 100\")\n",
        "conn.commit()\n"
      ],
      "metadata": {
        "id": "6UGHA2b2nYmr"
      },
      "execution_count": 15,
      "outputs": []
    },
    {
      "cell_type": "code",
      "source": [
        "# Rank menu items based on their prices, displaying the item_name and its rank\n",
        "query13 = \"\"\"\n",
        "SELECT item_name, price,\n",
        "       RANK() OVER (ORDER BY price DESC) AS price_rank\n",
        "FROM menu_items\n",
        "\"\"\"\n",
        "print(pd.read_sql_query(query13, conn))\n"
      ],
      "metadata": {
        "colab": {
          "base_uri": "https://localhost:8080/"
        },
        "id": "S01DxLAMnbsY",
        "outputId": "da146aff-1eb0-4185-fdaa-b552828c905a"
      },
      "execution_count": 16,
      "outputs": [
        {
          "output_type": "stream",
          "name": "stdout",
          "text": [
            "                item_name  price  price_rank\n",
            "0               Hamburger  25.00           1\n",
            "1           Shrimp Scampi  19.95           2\n",
            "2        Korean Beef Bowl  17.95           3\n",
            "3              Pork Ramen  17.95           3\n",
            "4   Spaghetti & Meatballs  17.95           3\n",
            "5            Meat Lasagna  17.95           3\n",
            "6        Chicken Parmesan  17.95           3\n",
            "7       Eggplant Parmesan  16.95           8\n",
            "8          Orange Chicken  16.50           9\n",
            "9          Cheese Lasagna  15.50          10\n",
            "10       Mushroom Ravioli  15.50          10\n",
            "11            Salmon Roll  14.95          12\n",
            "12          Steak Burrito  14.95          12\n",
            "13          Tofu Pad Thai  14.50          14\n",
            "14              Spaghetti  14.50          14\n",
            "15     Fettuccine Alfredo  14.50          14\n",
            "16           Cheeseburger  13.95          17\n",
            "17            Steak Tacos  13.95          17\n",
            "18            Steak Torta  13.95          17\n",
            "19        Chicken Burrito  12.95          20\n",
            "20        California Roll  11.95          21\n",
            "21          Chicken Tacos  11.95          21\n",
            "22          Chicken Torta  11.95          21\n",
            "23          Veggie Burger  10.50          24\n",
            "24     Cheese Quesadillas  10.50          24\n",
            "25                Hot Dog   9.00          26\n",
            "26            Potstickers   9.00          26\n",
            "27      Chips & Guacamole   9.00          26\n",
            "28           Mac & Cheese   7.00          29\n",
            "29           French Fries   7.00          29\n",
            "30          Chips & Salsa   7.00          29\n",
            "31         Chocolate Cake   6.50          32\n",
            "32                Edamame   5.00          33\n"
          ]
        }
      ]
    },
    {
      "cell_type": "code",
      "source": [
        "# Display the item_name and the price difference from the previous and next menu item\n",
        "query14 = \"\"\"\n",
        "SELECT item_name, price,\n",
        "       price - LAG(price, 1) OVER (ORDER BY price) AS prev_price_diff,\n",
        "       LEAD(price, 1) OVER (ORDER BY price) AS next_price_diff\n",
        "FROM menu_items\n",
        "\"\"\"\n",
        "print(pd.read_sql_query(query14, conn))\n"
      ],
      "metadata": {
        "colab": {
          "base_uri": "https://localhost:8080/"
        },
        "id": "Fo9oU8LXnjO0",
        "outputId": "23d67132-eea0-43c3-da74-183b724ab191"
      },
      "execution_count": 17,
      "outputs": [
        {
          "output_type": "stream",
          "name": "stdout",
          "text": [
            "                item_name  price  prev_price_diff  next_price_diff\n",
            "0                 Edamame   5.00              NaN             6.50\n",
            "1          Chocolate Cake   6.50             1.50             7.00\n",
            "2            Mac & Cheese   7.00             0.50             7.00\n",
            "3            French Fries   7.00             0.00             7.00\n",
            "4           Chips & Salsa   7.00             0.00             9.00\n",
            "5                 Hot Dog   9.00             2.00             9.00\n",
            "6             Potstickers   9.00             0.00             9.00\n",
            "7       Chips & Guacamole   9.00             0.00            10.50\n",
            "8           Veggie Burger  10.50             1.50            10.50\n",
            "9      Cheese Quesadillas  10.50             0.00            11.95\n",
            "10        California Roll  11.95             1.45            11.95\n",
            "11          Chicken Tacos  11.95             0.00            11.95\n",
            "12          Chicken Torta  11.95             0.00            12.95\n",
            "13        Chicken Burrito  12.95             1.00            13.95\n",
            "14           Cheeseburger  13.95             1.00            13.95\n",
            "15            Steak Tacos  13.95             0.00            13.95\n",
            "16            Steak Torta  13.95             0.00            14.50\n",
            "17          Tofu Pad Thai  14.50             0.55            14.50\n",
            "18              Spaghetti  14.50             0.00            14.50\n",
            "19     Fettuccine Alfredo  14.50             0.00            14.95\n",
            "20            Salmon Roll  14.95             0.45            14.95\n",
            "21          Steak Burrito  14.95             0.00            15.50\n",
            "22         Cheese Lasagna  15.50             0.55            15.50\n",
            "23       Mushroom Ravioli  15.50             0.00            16.50\n",
            "24         Orange Chicken  16.50             1.00            16.95\n",
            "25      Eggplant Parmesan  16.95             0.45            17.95\n",
            "26       Korean Beef Bowl  17.95             1.00            17.95\n",
            "27             Pork Ramen  17.95             0.00            17.95\n",
            "28  Spaghetti & Meatballs  17.95             0.00            17.95\n",
            "29           Meat Lasagna  17.95             0.00            17.95\n",
            "30       Chicken Parmesan  17.95             0.00            19.95\n",
            "31          Shrimp Scampi  19.95             2.00            25.00\n",
            "32              Hamburger  25.00             5.05              NaN\n"
          ]
        }
      ]
    },
    {
      "cell_type": "code",
      "source": [
        "# Create a CTE that lists menu items with prices above $15\n",
        "query15_cte = \"\"\"\n",
        "WITH ExpensiveItems AS (\n",
        "    SELECT item_name, price\n",
        "    FROM menu_items\n",
        "    WHERE price > 15\n",
        ")\n",
        "SELECT COUNT(*) AS count_expensive_items FROM ExpensiveItems\n",
        "\"\"\"\n",
        "print(pd.read_sql_query(query15_cte, conn))\n"
      ],
      "metadata": {
        "colab": {
          "base_uri": "https://localhost:8080/"
        },
        "id": "SQZmDNGynmPs",
        "outputId": "8e3d67ef-c489-43e9-e154-d9e0c29e6957"
      },
      "execution_count": 18,
      "outputs": [
        {
          "output_type": "stream",
          "name": "stdout",
          "text": [
            "   count_expensive_items\n",
            "0                     11\n"
          ]
        }
      ]
    },
    {
      "cell_type": "code",
      "source": [
        "query15_cte = \"\"\"\n",
        "WITH ExpensiveItems AS (\n",
        "    SELECT\n",
        "        item_name\n",
        "    FROM\n",
        "        menu_items\n",
        "    WHERE\n",
        "        price > 15\n",
        ")\n",
        "SELECT\n",
        "    COUNT(*) AS num_expensive_items\n",
        "FROM\n",
        "    ExpensiveItems;\n",
        "\"\"\"\n",
        "print(pd.read_sql_query(query15_cte, conn))\n"
      ],
      "metadata": {
        "colab": {
          "base_uri": "https://localhost:8080/"
        },
        "id": "caqAWZBVU1aD",
        "outputId": "1aef9ea4-34e1-4916-f629-c61b0ca7d791"
      },
      "execution_count": null,
      "outputs": [
        {
          "output_type": "stream",
          "name": "stdout",
          "text": [
            "   num_expensive_items\n",
            "0                   11\n"
          ]
        }
      ]
    },
    {
      "cell_type": "code",
      "source": [
        "# Retrieve the order_id, item_name, and price for all orders with their respective menu item details, including rows even if there is no matching menu item\n",
        "query16 = \"\"\"\n",
        "SELECT od.order_id, mi.item_name, mi.price\n",
        "FROM order_details od\n",
        "LEFT JOIN menu_items mi ON od.item_id = mi.menu_item_id\n",
        "\"\"\"\n",
        "print(pd.read_sql_query(query16, conn))\n"
      ],
      "metadata": {
        "colab": {
          "base_uri": "https://localhost:8080/"
        },
        "id": "rzDk8JJDnoon",
        "outputId": "4031753e-9e23-4a34-db62-9498b20bc3f0"
      },
      "execution_count": 19,
      "outputs": [
        {
          "output_type": "stream",
          "name": "stdout",
          "text": [
            "       order_id           item_name  price\n",
            "0           100    Korean Beef Bowl  17.95\n",
            "1           101        Cheeseburger  13.95\n",
            "2           101             Edamame   5.00\n",
            "3           101  Cheese Quesadillas  10.50\n",
            "4           101       Chips & Salsa   7.00\n",
            "...         ...                 ...    ...\n",
            "11996      5369    Korean Beef Bowl  17.95\n",
            "11997      5369    Mushroom Ravioli  15.50\n",
            "11998      5369         Steak Torta  13.95\n",
            "11999      5369       Chips & Salsa   7.00\n",
            "12000      5370       Chips & Salsa   7.00\n",
            "\n",
            "[12001 rows x 3 columns]\n"
          ]
        }
      ]
    },
    {
      "cell_type": "code",
      "source": [
        "# Unpivot the menu_items table to show a list of menu item properties\n",
        "query17 = \"\"\"\n",
        "SELECT menu_item_id, 'item_name' AS property, item_name AS value FROM menu_items\n",
        "UNION\n",
        "SELECT menu_item_id, 'category' AS property, category AS value FROM menu_items\n",
        "UNION\n",
        "SELECT menu_item_id, 'price' AS property, price AS value FROM menu_items\n",
        "\"\"\"\n",
        "print(pd.read_sql_query(query17, conn))\n"
      ],
      "metadata": {
        "colab": {
          "base_uri": "https://localhost:8080/"
        },
        "id": "Jdb-Sz2anvvU",
        "outputId": "2f2ee658-46b0-4f50-b88d-9693ae4c3f4f"
      },
      "execution_count": 20,
      "outputs": [
        {
          "output_type": "stream",
          "name": "stdout",
          "text": [
            "    menu_item_id   property              value\n",
            "0            101   category           American\n",
            "1            101  item_name          Hamburger\n",
            "2            101      price               25.0\n",
            "3            102   category           American\n",
            "4            102  item_name       Cheeseburger\n",
            "..           ...        ...                ...\n",
            "94           132  item_name  Eggplant Parmesan\n",
            "95           132      price              16.95\n",
            "96           999   category            Dessert\n",
            "97           999  item_name     Chocolate Cake\n",
            "98           999      price                6.5\n",
            "\n",
            "[99 rows x 3 columns]\n"
          ]
        }
      ]
    },
    {
      "cell_type": "code",
      "source": [
        "import pandas as pd\n",
        "\n",
        "# Write a dynamic SQL query that fetches original min and max prices within a category\n",
        "def category_price_range(category):\n",
        "    query = f\"\"\"\n",
        "    SELECT MIN(price) as min_price, MAX(price) as max_price\n",
        "    FROM menu_items\n",
        "    WHERE category = '{category}'\n",
        "    \"\"\"\n",
        "    return pd.read_sql_query(query, conn)\n",
        "\n",
        "# Example usage\n",
        "print(category_price_range('American'))\n"
      ],
      "metadata": {
        "colab": {
          "base_uri": "https://localhost:8080/"
        },
        "id": "7st_Wrs9XdEo",
        "outputId": "49e29854-8cd9-4995-e458-f80cf9136027"
      },
      "execution_count": 21,
      "outputs": [
        {
          "output_type": "stream",
          "name": "stdout",
          "text": [
            "   min_price  max_price\n",
            "0        7.0       25.0\n"
          ]
        }
      ]
    },
    {
      "cell_type": "code",
      "source": [
        "\n",
        "\n",
        "# Write a dynamic SQL query that allows users to filter menu items based on category and price range\n",
        "def dynamic_query(category, min_price, max_price):\n",
        "    query = f\"\"\"\n",
        "    SELECT item_name, price\n",
        "    FROM menu_items\n",
        "    WHERE category = '{category}' AND price BETWEEN {min_price} AND {max_price}\n",
        "    \"\"\"\n",
        "    return pd.read_sql_query(query, conn)\n",
        "\n",
        "# Example usage\n",
        "print(dynamic_query('American', 10, 20))\n",
        "\n"
      ],
      "metadata": {
        "colab": {
          "base_uri": "https://localhost:8080/"
        },
        "id": "UquaKno-n6np",
        "outputId": "5ab93cf4-cb3e-4809-e65a-56edf41011f3"
      },
      "execution_count": 22,
      "outputs": [
        {
          "output_type": "stream",
          "name": "stdout",
          "text": [
            "       item_name  price\n",
            "0   Cheeseburger  13.95\n",
            "1  Veggie Burger  10.50\n"
          ]
        }
      ]
    },
    {
      "cell_type": "code",
      "source": [
        "import pandas as pd\n",
        "\n",
        "# Write a dynamic SQL query that allows users to filter menu items based on category and price range\n",
        "def dynamic_query(category):\n",
        "    subquery = f\"\"\"\n",
        "    SELECT MIN(price) as min_price, MAX(price) as max_price\n",
        "    FROM menu_items\n",
        "    WHERE category = '{category}'\n",
        "    \"\"\"\n",
        "    category_prices = pd.read_sql_query(subquery, conn)\n",
        "    min_price = category_prices['min_price'].values[0]\n",
        "    max_price = category_prices['max_price'].values[0]\n",
        "\n",
        "    query = f\"\"\"\n",
        "    SELECT item_name, price\n",
        "    FROM menu_items\n",
        "    WHERE category = '{category}' AND price BETWEEN {min_price} AND {max_price}\n",
        "    \"\"\"\n",
        "    return pd.read_sql_query(query, conn)\n",
        "\n",
        "# Example usage\n",
        "print(dynamic_query('American'))\n"
      ],
      "metadata": {
        "colab": {
          "base_uri": "https://localhost:8080/"
        },
        "id": "h8vTBTXDXt8L",
        "outputId": "9dda923b-1d0a-45fd-e1c8-e54ea5b57e68"
      },
      "execution_count": 23,
      "outputs": [
        {
          "output_type": "stream",
          "name": "stdout",
          "text": [
            "       item_name  price\n",
            "0      Hamburger  25.00\n",
            "1   Cheeseburger  13.95\n",
            "2        Hot Dog   9.00\n",
            "3  Veggie Burger  10.50\n",
            "4   Mac & Cheese   7.00\n",
            "5   French Fries   7.00\n"
          ]
        }
      ]
    },
    {
      "cell_type": "code",
      "source": [
        "def get_average_price_by_category(category):\n",
        "    query = f\"\"\"\n",
        "    SELECT AVG(price) AS avg_price\n",
        "    FROM menu_items\n",
        "    WHERE category = '{category}'\n",
        "    \"\"\"\n",
        "    return pd.read_sql_query(query, conn)\n",
        "\n",
        "# Example usage\n",
        "print(get_average_price_by_category('Asian'))\n"
      ],
      "metadata": {
        "colab": {
          "base_uri": "https://localhost:8080/"
        },
        "id": "FGg_ISw7n9Pp",
        "outputId": "818bfc8d-66a2-4181-fe6f-7d48aa70fb18"
      },
      "execution_count": 31,
      "outputs": [
        {
          "output_type": "stream",
          "name": "stdout",
          "text": [
            "   avg_price\n",
            "0     13.475\n"
          ]
        }
      ]
    },
    {
      "cell_type": "code",
      "source": [],
      "metadata": {
        "id": "uG1Ka4GEoikH"
      },
      "execution_count": null,
      "outputs": []
    }
  ]
}